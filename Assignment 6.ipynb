{
 "cells": [
  {
   "cell_type": "markdown",
   "id": "4e9ba693",
   "metadata": {},
   "source": [
    "# Q1.write a function which will try to find out len of a string without using inbulid len function."
   ]
  },
  {
   "cell_type": "code",
   "execution_count": 1,
   "id": "dbdc0c7e",
   "metadata": {},
   "outputs": [],
   "source": [
    "a=\"vikash is learning a data science from ineuron\""
   ]
  },
  {
   "cell_type": "code",
   "execution_count": 2,
   "id": "077b51c0",
   "metadata": {},
   "outputs": [],
   "source": [
    "def test(l):\n",
    "    sum=0\n",
    "    for i in l:\n",
    "        if type(i)==str:\n",
    "            sum=sum+1\n",
    "    return sum\n"
   ]
  },
  {
   "cell_type": "code",
   "execution_count": 3,
   "id": "61fff0ef",
   "metadata": {},
   "outputs": [
    {
     "data": {
      "text/plain": [
       "46"
      ]
     },
     "execution_count": 3,
     "metadata": {},
     "output_type": "execute_result"
    }
   ],
   "source": [
    "test(a)"
   ]
  },
  {
   "cell_type": "markdown",
   "id": "87cdf64c",
   "metadata": {},
   "source": [
    "# Q2.write a function which will be able to print an index of list element without using an index function."
   ]
  },
  {
   "cell_type": "code",
   "execution_count": 23,
   "id": "bd085d2c",
   "metadata": {},
   "outputs": [],
   "source": [
    "def test1(l):\n",
    "    for i in range(0,len(l)):\n",
    "        print(f\"index of {l[i]} is  {i} \")\n",
    "    return \"List ended\""
   ]
  },
  {
   "cell_type": "code",
   "execution_count": 24,
   "id": "926f6fa2",
   "metadata": {},
   "outputs": [
    {
     "name": "stdout",
     "output_type": "stream",
     "text": [
      "index of H is  0 \n",
      "index of e is  1 \n",
      "index of l is  2 \n",
      "index of l is  3 \n",
      "index of o is  4 \n",
      "index of   is  5 \n",
      "index of E is  6 \n",
      "index of v is  7 \n",
      "index of e is  8 \n",
      "index of r is  9 \n",
      "index of y is  10 \n",
      "index of o is  11 \n",
      "index of n is  12 \n",
      "index of e is  13 \n",
      "index of   is  14 \n",
      "index of m is  15 \n",
      "index of y is  16 \n",
      "index of   is  17 \n",
      "index of n is  18 \n",
      "index of a is  19 \n",
      "index of m is  20 \n",
      "index of e is  21 \n",
      "index of   is  22 \n",
      "index of i is  23 \n",
      "index of s is  24 \n",
      "index of   is  25 \n",
      "index of d is  26 \n",
      "index of e is  27 \n",
      "index of e is  28 \n",
      "index of p is  29 \n",
      "index of a is  30 \n",
      "index of k is  31 \n",
      "index of   is  32 \n",
      "index of k is  33 \n",
      "index of u is  34 \n",
      "index of m is  35 \n",
      "index of a is  36 \n",
      "index of r is  37 \n"
     ]
    },
    {
     "data": {
      "text/plain": [
       "'Lit ended'"
      ]
     },
     "execution_count": 24,
     "metadata": {},
     "output_type": "execute_result"
    }
   ],
   "source": [
    "test1(a)"
   ]
  },
  {
   "cell_type": "markdown",
   "id": "bfb63b2d",
   "metadata": {},
   "source": [
    "# Q3.write a function which will be able ton print an ip address of your system."
   ]
  },
  {
   "cell_type": "code",
   "execution_count": 20,
   "id": "9b8e9a6b",
   "metadata": {},
   "outputs": [],
   "source": [
    "import socket\n",
    "def print_ip():\n",
    "    ip_address = socket.gethostbyname(socket.gethostname())\n",
    "    print(\"IP Address: \" + ip_address)"
   ]
  },
  {
   "cell_type": "code",
   "execution_count": 22,
   "id": "b25d3a4a",
   "metadata": {},
   "outputs": [
    {
     "name": "stdout",
     "output_type": "stream",
     "text": [
      "IP Address: 192.168.251.1\n"
     ]
    }
   ],
   "source": [
    "print_ip()"
   ]
  },
  {
   "cell_type": "markdown",
   "id": "56ab94a9",
   "metadata": {},
   "source": [
    "# Q4.write a function which will be able shutdown your system."
   ]
  },
  {
   "cell_type": "code",
   "execution_count": 17,
   "id": "461cb453",
   "metadata": {},
   "outputs": [
    {
     "name": "stdout",
     "output_type": "stream",
     "text": [
      "Enter S for shutdown g\n",
      "wrong input\n"
     ]
    }
   ],
   "source": [
    "import os\n",
    "import platform\n",
    "def shutdown():\n",
    "    if platform.system()==\"windows\":\n",
    "        os.system(\"shutdown -s\")\n",
    "    else:\n",
    "        print(\"os is not supported\")\n",
    "command=input(\"Enter S for shutdown \")\n",
    "if command==\"s\" and command==\"S\":\n",
    "    shutdown ()\n",
    "else:\n",
    "    print(\"wrong input\")\n"
   ]
  },
  {
   "cell_type": "markdown",
   "id": "98988aec",
   "metadata": {},
   "source": [
    "# Q5.write a function which will take input as a list with any kind of numeric value and give an out as a mulitiplication of all the numeric data l =[3.5,6.56,4,5,\"sudh\",\"ineuron\",\"fsda bootcamp 2.o\"]."
   ]
  },
  {
   "cell_type": "code",
   "execution_count": 27,
   "id": "01ad906f",
   "metadata": {},
   "outputs": [],
   "source": [
    "l =[3.5,6.56,4,5,\"sudh\",\"ineuron\",\"fsda bootcamp 2.o\"]"
   ]
  },
  {
   "cell_type": "code",
   "execution_count": 28,
   "id": "7472dc56",
   "metadata": {},
   "outputs": [],
   "source": [
    "def multiply(l):\n",
    "    total = 1\n",
    "    for i in l:\n",
    "        if isinstance(i, (int, float)):\n",
    "            total = total * i\n",
    "    return total"
   ]
  },
  {
   "cell_type": "code",
   "execution_count": 29,
   "id": "f6f04df6",
   "metadata": {},
   "outputs": [
    {
     "data": {
      "text/plain": [
       "459.19999999999993"
      ]
     },
     "execution_count": 29,
     "metadata": {},
     "output_type": "execute_result"
    }
   ],
   "source": [
    "multiply(l)"
   ]
  }
 ],
 "metadata": {
  "kernelspec": {
   "display_name": "Python 3 (ipykernel)",
   "language": "python",
   "name": "python3"
  },
  "language_info": {
   "codemirror_mode": {
    "name": "ipython",
    "version": 3
   },
   "file_extension": ".py",
   "mimetype": "text/x-python",
   "name": "python",
   "nbconvert_exporter": "python",
   "pygments_lexer": "ipython3",
   "version": "3.9.12"
  }
 },
 "nbformat": 4,
 "nbformat_minor": 5
}
